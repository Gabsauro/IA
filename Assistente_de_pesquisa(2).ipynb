{
  "nbformat": 4,
  "nbformat_minor": 0,
  "metadata": {
    "colab": {
      "provenance": [],
      "include_colab_link": true
    },
    "kernelspec": {
      "name": "python3",
      "display_name": "Python 3"
    },
    "language_info": {
      "name": "python"
    }
  },
  "cells": [
    {
      "cell_type": "markdown",
      "metadata": {
        "id": "view-in-github",
        "colab_type": "text"
      },
      "source": [
        "<a href=\"https://colab.research.google.com/github/Gabsauro/IA/blob/main/Assistente_de_pesquisa(2).ipynb\" target=\"_parent\"><img src=\"https://colab.research.google.com/assets/colab-badge.svg\" alt=\"Open In Colab\"/></a>"
      ]
    },
    {
      "cell_type": "markdown",
      "source": [
        "Instalando o SDK do google"
      ],
      "metadata": {
        "id": "ymVuufkZaJsW"
      }
    },
    {
      "cell_type": "code",
      "execution_count": null,
      "metadata": {
        "id": "4LGSHm3zaErg"
      },
      "outputs": [],
      "source": [
        "!pip install -q -U google-generativeai\n",
        "!pip install google-cloud-speech\n",
        "!pip install youtube_transcript_api"
      ]
    },
    {
      "cell_type": "code",
      "source": [
        "!pip install streamlit"
      ],
      "metadata": {
        "id": "z1hHcWOEW_3O"
      },
      "execution_count": null,
      "outputs": []
    },
    {
      "cell_type": "code",
      "source": [
        "!pip install SpeechRecognition"
      ],
      "metadata": {
        "id": "626POMLGdDlY"
      },
      "execution_count": null,
      "outputs": []
    },
    {
      "cell_type": "code",
      "source": [
        "!pip install moviepy"
      ],
      "metadata": {
        "id": "-VSc_Kz6c-4S"
      },
      "execution_count": null,
      "outputs": []
    },
    {
      "cell_type": "markdown",
      "source": [
        "Inicializando o modelo"
      ],
      "metadata": {
        "id": "lM1mWZb4e1eq"
      }
    },
    {
      "cell_type": "code",
      "source": [
        "from google.cloud import speech\n",
        "from youtube_transcript_api import YouTubeTranscriptApi\n",
        "import streamlit as st\n",
        "\n",
        "#Modelo para usar a partir de videos no computador\n",
        "import moviepy.editor as mp\n",
        "import speech_recognition as sr\n",
        "\n",
        "def localVideoTranscrpit(path):\n",
        "\n",
        "  # Load the video\n",
        "  video = mp.VideoFileClip(path)\n",
        "\n",
        "  # Extract the audio from the video\n",
        "  audio_file = video.audio\n",
        "  audio_file.write_audiofile(\"video_test.wav\")\n",
        "\n",
        "  # Initialize recognizer\n",
        "  r = sr.Recognizer()\n",
        "\n",
        "  # Load the audio file\n",
        "  with sr.AudioFile(\"video_test.wav\") as source:\n",
        "      data = r.record(source)\n",
        "\n",
        "  # Convert speech to text\n",
        "  text = r.recognize_google(data)\n",
        "  return text\n",
        "\n",
        "#Modelo para usar a partir de videos no youtube\n",
        "def extract_transcript_details(youtube_video_url):\n",
        "  try:\n",
        "      video_id = youtube_video_url.split(\"=\")[1]\n",
        "      transcript_text = YouTubeTranscriptApi.get_transcript(video_id)\n",
        "\n",
        "      transcript = \"\"\n",
        "      for i in transcript_text:\n",
        "          transcript += \" \" + i[\"text\"]\n",
        "\n",
        "      return transcript\n",
        "  except Exception as e:\n",
        "      raise e"
      ],
      "metadata": {
        "id": "DWIuUB_oUY4q"
      },
      "execution_count": null,
      "outputs": []
    },
    {
      "cell_type": "code",
      "source": [
        "#Exemplo de uso com video no computador, retornando o transcrpit\n",
        "#video_transcrpit = localVideoTranscrpit(\"/content/exam_video_test.mp4\")\n",
        "#print(\"+++ FROM VIDEO FILE +++\")\n",
        "#print(video_transcrpit)\n",
        "\n",
        "#Exemplo de uso com video no youtube, retornando o transcrpit\n",
        "#video_transcrpit = extract_transcript_details(\"https://www.youtube.com/watch?v=R3AT8AtkeGc\")\n",
        "#print(\"+++ FROM YOUTUBE +++\")\n",
        "#print(video_transcrpit)"
      ],
      "metadata": {
        "id": "zM9XJmhHX1bX"
      },
      "execution_count": null,
      "outputs": []
    },
    {
      "cell_type": "code",
      "source": [
        "\"\"\"\n",
        "At the command line, only need to run once to install the package via pip:\n",
        "\n",
        "$ pip install google-generativeai\n",
        "\"\"\"\n",
        "import google.generativeai as genai\n",
        "# Used to securely store your API key\n",
        "from google.colab import userdata\n",
        "\n",
        "api_key = userdata.get('SECRET_KEY')\n",
        "genai.configure(api_key=api_key)\n",
        "\n",
        "\n",
        "# Set up the model\n",
        "generation_config = {\n",
        "  \"temperature\": 1,\n",
        "  \"top_p\": 0.95,\n",
        "  \"top_k\": 0,\n",
        "  \"max_output_tokens\": 8192,\n",
        "}\n",
        "\n",
        "safety_settings = [\n",
        "  {\n",
        "    \"category\": \"HARM_CATEGORY_HARASSMENT\",\n",
        "    \"threshold\": \"BLOCK_MEDIUM_AND_ABOVE\"\n",
        "  },\n",
        "  {\n",
        "    \"category\": \"HARM_CATEGORY_HATE_SPEECH\",\n",
        "    \"threshold\": \"BLOCK_MEDIUM_AND_ABOVE\"\n",
        "  },\n",
        "  {\n",
        "    \"category\": \"HARM_CATEGORY_SEXUALLY_EXPLICIT\",\n",
        "    \"threshold\": \"BLOCK_MEDIUM_AND_ABOVE\"\n",
        "  },\n",
        "  {\n",
        "    \"category\": \"HARM_CATEGORY_DANGEROUS_CONTENT\",\n",
        "    \"threshold\": \"BLOCK_MEDIUM_AND_ABOVE\"\n",
        "  },\n",
        "]\n",
        "system_instruction = \"Você é uma ux research que analisa entrevistas com usuários para entender suas necessidades, dificuldades, dúvidas e hábitos. Ao receber uma transcrição de uma entrevista você deve categorizar e resumir os temas que foram falados e dizer em qual minuto esse assunto foi falado.\"\n",
        "\n",
        "model = genai.GenerativeModel(model_name=\"gemini-1.5-pro-latest\",\n",
        "                              generation_config=generation_config,\n",
        "                              system_instruction=system_instruction,\n",
        "                              safety_settings=safety_settings)\n",
        "chat = model.start_chat(history=[])\n",
        "\n",
        "print(\"Olá, vamos fazer analisar uma entrevista bacana hoje? Escolha uma das 3 opções abaixo, digitando somente o número\")\n",
        "print(\"1) Video a partir do Youtube\")\n",
        "print(\"2) Video a partir de um arquivo local\")\n",
        "print(\"3) A partir de um Texto\")\n",
        "prompt = \"\"\n",
        "while prompt not in [\"1\",\"2\",\"3\"]:\n",
        "  prompt = input (\"Por Favor, escolha a opção\")\n",
        "  if prompt not in [\"1\",\"2\",\"3\"]:\n",
        "    print(\"Opção inválida, escolha uma das opções acima\")\n",
        "\n",
        "if prompt == \"1\":\n",
        "  source = input (\"Por favor, insira o link do video do youtube: \")\n",
        "  transcrpit = extract_transcript_details(source)\n",
        "elif prompt == \"2\":\n",
        "  source = input (\"Por favor, insira o caminho do arquivo: \")\n",
        "  transcrpit = localVideoTranscrpit(source)\n",
        "elif prompt == \"3\":\n",
        "  transcrpit = input (\"Por favor, insira o texto\")\n",
        "\n",
        "print(\"Analisando a entrevista...\")\n",
        "\n",
        "\n",
        "while prompt != \"fim\":\n",
        "  response = chat.send_message(transcrpit)\n",
        "  print(\"resposta:\",response.text, \"\\n\")\n",
        "  prompt = input (\"Envie outra transcrição ou pergunte algo sobre a entrevista anterior\")\n",
        "\n",
        "print(chat.send_message(\" \"))  # Send an empty message to trigger analysis\n",
        "print(chat.last.text)\n"
      ],
      "metadata": {
        "colab": {
          "base_uri": "https://localhost:8080/",
          "height": 315
        },
        "id": "9YRbEmMA2LZi",
        "outputId": "ade7d1a1-3e8e-4994-cc19-c88870e98aa1"
      },
      "execution_count": 1,
      "outputs": [
        {
          "name": "stdout",
          "output_type": "stream",
          "text": [
            "Olá, vamos fazer analisar uma entrevista bacana hoje? Escolha uma das 3 opções abaixo, digitando somente o número\n",
            "1) Video a partir do Youtube\n",
            "2) Video a partir de um arquivo local\n",
            "3) A partir de um Texto\n",
            "Por Favor, escolha a opção2\n",
            "Por favor, insira o caminho do arquivo: 5\n"
          ]
        },
        {
          "output_type": "error",
          "ename": "NameError",
          "evalue": "name 'localVideoTranscrpit' is not defined",
          "traceback": [
            "\u001b[0;31m---------------------------------------------------------------------------\u001b[0m",
            "\u001b[0;31mNameError\u001b[0m                                 Traceback (most recent call last)",
            "\u001b[0;32m<ipython-input-1-fe4a42d405ae>\u001b[0m in \u001b[0;36m<cell line: 58>\u001b[0;34m()\u001b[0m\n\u001b[1;32m     61\u001b[0m \u001b[0;32melif\u001b[0m \u001b[0mprompt\u001b[0m \u001b[0;34m==\u001b[0m \u001b[0;34m\"2\"\u001b[0m\u001b[0;34m:\u001b[0m\u001b[0;34m\u001b[0m\u001b[0;34m\u001b[0m\u001b[0m\n\u001b[1;32m     62\u001b[0m   \u001b[0msource\u001b[0m \u001b[0;34m=\u001b[0m \u001b[0minput\u001b[0m \u001b[0;34m(\u001b[0m\u001b[0;34m\"Por favor, insira o caminho do arquivo: \"\u001b[0m\u001b[0;34m)\u001b[0m\u001b[0;34m\u001b[0m\u001b[0;34m\u001b[0m\u001b[0m\n\u001b[0;32m---> 63\u001b[0;31m   \u001b[0mtranscrpit\u001b[0m \u001b[0;34m=\u001b[0m \u001b[0mlocalVideoTranscrpit\u001b[0m\u001b[0;34m(\u001b[0m\u001b[0msource\u001b[0m\u001b[0;34m)\u001b[0m\u001b[0;34m\u001b[0m\u001b[0;34m\u001b[0m\u001b[0m\n\u001b[0m\u001b[1;32m     64\u001b[0m \u001b[0;32melif\u001b[0m \u001b[0mprompt\u001b[0m \u001b[0;34m==\u001b[0m \u001b[0;34m\"3\"\u001b[0m\u001b[0;34m:\u001b[0m\u001b[0;34m\u001b[0m\u001b[0;34m\u001b[0m\u001b[0m\n\u001b[1;32m     65\u001b[0m   \u001b[0mtranscrpit\u001b[0m \u001b[0;34m=\u001b[0m \u001b[0minput\u001b[0m \u001b[0;34m(\u001b[0m\u001b[0;34m\"Por favor, insira o texto\"\u001b[0m\u001b[0;34m)\u001b[0m\u001b[0;34m\u001b[0m\u001b[0;34m\u001b[0m\u001b[0m\n",
            "\u001b[0;31mNameError\u001b[0m: name 'localVideoTranscrpit' is not defined"
          ]
        }
      ]
    }
  ]
}