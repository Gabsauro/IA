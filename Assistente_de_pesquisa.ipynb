{
  "nbformat": 4,
  "nbformat_minor": 0,
  "metadata": {
    "colab": {
      "provenance": [],
      "authorship_tag": "ABX9TyOsvP0+lmgJBbILqFIznkuF",
      "include_colab_link": true
    },
    "kernelspec": {
      "name": "python3",
      "display_name": "Python 3"
    },
    "language_info": {
      "name": "python"
    }
  },
  "cells": [
    {
      "cell_type": "markdown",
      "metadata": {
        "id": "view-in-github",
        "colab_type": "text"
      },
      "source": [
        "<a href=\"https://colab.research.google.com/github/Gabsauro/IA/blob/main/Assistente_de_pesquisa.ipynb\" target=\"_parent\"><img src=\"https://colab.research.google.com/assets/colab-badge.svg\" alt=\"Open In Colab\"/></a>"
      ]
    },
    {
      "cell_type": "markdown",
      "source": [
        "Instalando o SDK do google"
      ],
      "metadata": {
        "id": "ymVuufkZaJsW"
      }
    },
    {
      "cell_type": "code",
      "execution_count": 2,
      "metadata": {
        "id": "4LGSHm3zaErg"
      },
      "outputs": [],
      "source": [
        "!pip install -q -U google-generativeai"
      ]
    },
    {
      "cell_type": "code",
      "source": [
        "import google.generativeai as genai\n",
        "# Used to securely store your API key\n",
        "from google.colab import userdata\n",
        "\n",
        "api_key = userdata.get('SECRET_KEY')\n",
        "genai.configure(api_key=api_key)"
      ],
      "metadata": {
        "id": "ZGKSOCB-aU72"
      },
      "execution_count": 25,
      "outputs": []
    },
    {
      "cell_type": "markdown",
      "source": [
        "Listar os modelos disponíveis"
      ],
      "metadata": {
        "id": "nhTnqyl7apA9"
      }
    },
    {
      "cell_type": "code",
      "source": [
        "for m in genai.list_models():\n",
        "  if 'generateContent' in m.supported_generation_methods:\n",
        "    print(m.name)"
      ],
      "metadata": {
        "colab": {
          "base_uri": "https://localhost:8080/",
          "height": 139
        },
        "id": "Pbawzrtpanam",
        "outputId": "4b246e0e-a6ed-4d87-e75c-ab1a7b679f46"
      },
      "execution_count": 20,
      "outputs": [
        {
          "output_type": "stream",
          "name": "stdout",
          "text": [
            "models/gemini-1.0-pro\n",
            "models/gemini-1.0-pro-001\n",
            "models/gemini-1.0-pro-latest\n",
            "models/gemini-1.0-pro-vision-latest\n",
            "models/gemini-1.5-pro-latest\n",
            "models/gemini-pro\n",
            "models/gemini-pro-vision\n"
          ]
        }
      ]
    },
    {
      "cell_type": "code",
      "source": [
        "generation_config = {\n",
        "    'candidate_count':1,\n",
        "    'temperature':0.7,\n",
        "}"
      ],
      "metadata": {
        "id": "RLmmIVvjc4Jz"
      },
      "execution_count": 8,
      "outputs": []
    },
    {
      "cell_type": "code",
      "source": [
        "safety_settings = {\n",
        "    'harassment': \"block_most\",\n",
        "    'hate': \"block_none\",\n",
        "    'sexual': \"block_most\",\n",
        "    'violence': \"block_most\",\n",
        "}"
      ],
      "metadata": {
        "id": "JDFrX0xSd0cf"
      },
      "execution_count": 9,
      "outputs": []
    },
    {
      "cell_type": "markdown",
      "source": [
        "Inicializando o modelo"
      ],
      "metadata": {
        "id": "lM1mWZb4e1eq"
      }
    },
    {
      "cell_type": "code",
      "source": [
        "model = genai.GenerativeModel(model_name=\"gemini-1.5-pro-latest\",generation_config=generation_config,safety_settings=safety_settings)\n"
      ],
      "metadata": {
        "id": "Dh59kHHxe3h_"
      },
      "execution_count": null,
      "outputs": []
    },
    {
      "cell_type": "code",
      "source": [
        "model = genai.GenerativeModel('gemini-pro')"
      ],
      "metadata": {
        "id": "ai4rOEYSgBAV"
      },
      "execution_count": 11,
      "outputs": []
    },
    {
      "cell_type": "code",
      "source": [
        "chat = model.start_chat(history=[])"
      ],
      "metadata": {
        "id": "DRvh1nCRgVPs"
      },
      "execution_count": 13,
      "outputs": []
    },
    {
      "cell_type": "code",
      "source": [
        "\"\"\"\n",
        "At the command line, only need to run once to install the package via pip:\n",
        "\n",
        "$ pip install google-generativeai\n",
        "\"\"\"\n",
        "import google.generativeai as genai\n",
        "# Used to securely store your API key\n",
        "from google.colab import userdata\n",
        "\n",
        "api_key = userdata.get('SECRET_KEY')\n",
        "genai.configure(api_key=api_key)\n",
        "\n",
        "\n",
        "# Set up the model\n",
        "generation_config = {\n",
        "  \"temperature\": 1,\n",
        "  \"top_p\": 0.95,\n",
        "  \"top_k\": 0,\n",
        "  \"max_output_tokens\": 8192,\n",
        "}\n",
        "\n",
        "safety_settings = [\n",
        "  {\n",
        "    \"category\": \"HARM_CATEGORY_HARASSMENT\",\n",
        "    \"threshold\": \"BLOCK_MEDIUM_AND_ABOVE\"\n",
        "  },\n",
        "  {\n",
        "    \"category\": \"HARM_CATEGORY_HATE_SPEECH\",\n",
        "    \"threshold\": \"BLOCK_MEDIUM_AND_ABOVE\"\n",
        "  },\n",
        "  {\n",
        "    \"category\": \"HARM_CATEGORY_SEXUALLY_EXPLICIT\",\n",
        "    \"threshold\": \"BLOCK_MEDIUM_AND_ABOVE\"\n",
        "  },\n",
        "  {\n",
        "    \"category\": \"HARM_CATEGORY_DANGEROUS_CONTENT\",\n",
        "    \"threshold\": \"BLOCK_MEDIUM_AND_ABOVE\"\n",
        "  },\n",
        "]\n",
        "system_instruction = \"Você é uma ux research que analisa entrevistas com usuários para entender suas necessidades, dificuldades, dúvidas e hábitos. Ao receber uma transcrição de uma entrevista você deve categorizar e resumir os temas que foram falados e dizer em qual minuto esse assunto foi falado.\"\n",
        "\n",
        "model = genai.GenerativeModel(model_name=\"gemini-1.5-pro-latest\",\n",
        "                              generation_config=generation_config,\n",
        "                              system_instruction=system_instruction,\n",
        "                              safety_settings=safety_settings)\n",
        "convo = model.start_chat(history=[])\n",
        "\n",
        "prompt = input (\"Olá, vamos fazer analisar uma entrevista bacana hoje? Envie a transcrição aqui:\")\n",
        "\n",
        "while prompt != \"fim\":\n",
        "  response = chat.send_message(prompt)\n",
        "  print(\"resposta:\",response.text, \"\\n\")\n",
        "  prompt = input (\"Envie outra transcrição ou pergunte algo sobre a entrevista anterior\")\n",
        "\n",
        "print(convo.send_message(\" \"))  # Send an empty message to trigger analysis\n",
        "print(convo.last.text)\n"
      ],
      "metadata": {
        "colab": {
          "base_uri": "https://localhost:8080/",
          "height": 1000
        },
        "id": "9YRbEmMA2LZi",
        "outputId": "a5b1841f-4b35-4759-aa1d-a7f9a3e7b3a1"
      },
      "execution_count": null,
      "outputs": [
        {
          "output_type": "stream",
          "name": "stdout",
          "text": [
            "Olá, vamos fazer analisar uma entrevista bacana hoje? Envie a transcrição aqui:Gabriela [00:00:01] Então vamos lá. Gabriel, você autoriza a gravação dessa entrevista para posterior análise?  Werneck [00:00:07] Sim, autorizo.  Gabriela [00:00:09] Então, belezinha. Meu nome é Gabriela, eu sou estudante de publicidade na Universidade de São Paulo e meu objetivo com essa entrevista é tentar entender um pouquinho sobre o universo dos leitores de literatura. Fantástico! Então aqui não tem muito certo. Errado. Eu estou muito mais no papel de aprendiz, muito mais aqui para aprender com você. E então, qualquer coisa que passa pela sua cabeça, o que você considerar, você pode falar sem medo de julgamentos. Tá bom.  Werneck [00:00:37] Certinho? Ok.  Gabriela [00:00:39] Certo. Então vamos lá. Quando um pouquinho sobre você descola seu nome da cidade que você vive?  Werneck [00:00:49] Bem, meu nome é Gabriel Werneck, tenho 27 anos, moro em Guarulhos, São Paulo, que é dono da capital, então posso falar sobre minha Sim, entrando na questão da literatura. Desde novo sempre tive bastante interesse, principalmente por fantasia e terror. Então meio que eu sempre fui atrás desse tipo de material de leitura e gosto legal.  Gabriela [00:01:17] Como é que você começou nessa?  Werneck [00:01:20] No caso, é uma história bem divertida. Assim que na época do ensino fundamental teve uma viagem ao Playcenter. E onde o tema era sobre os livros de um autor de terror e terror da fantasia chamado André Vianco. E ali eu criei curiosidade pelo autor, fui transferido dele e comecei a ir atrás de outros autores.  Gabriela [00:01:46] Ai que legal! Bem bacana! E nos últimos seis meses você comprou livros de fantasia?  Werneck [00:01:54] Sim.  Gabriela [00:01:55] E como é que foi o processo de escolha e de compra do livro?  Werneck [00:01:59] No caso que eu comprei, eu já tinha ouvido falar sobre eles em vídeos no YouTube, pessoas falando sobre. Porque era um livro que não tinha no Brasil no momento, mas ele é muito famoso lá fora. É de um autor chamado Overlock Anderson um. Então, nesse caso, o livro é o caminho dos Reis. Quando ele saiu do Brasil eu já fiquei. Então a desculpa sobre isso Hypadp pelo livro. Comprei assim que teve uma promoção numa loja. Pode falar meu nome? Pode, pode na Amazon, no caso vir a promoção na Amazon e acabei comprando ele.  Gabriela [00:02:42] Entendi. Então, você já tinha ouvido falar dele em outros canais e vi em outros canais e outras pessoas falando esses canais. Você falou que ele não tinha ainda no Brasil. Esses canais eram brasileiros?  Werneck [00:02:53] Não.  Gabriela [00:02:55] Quais são os canais que geralmente você usa para ver sobre o lançamento de livro?  Werneck [00:03:02] Eu não tenho um canal fixo, eu acompanho às vezes o YouTube recomenda. Eu acho interessante ver. Normalmente eu vou mais por dicas de amigos em alguma rede social. Alguém comenta sobre ou a própria Amazon me recomenda Eu dou uma olhada na sinopse e vejo se gosto ou as vezes se saio em alguma livraria. Eu vejo os livros.  Gabriela [00:03:26] Entendi. Legal, certo? E aí, você compra pela Amazon, né?  Werneck [00:03:33] Isso.  Gabriela [00:03:34] Teve algum motivo para você escolher a Amazon  Werneck [00:03:39] No caso, eu tenho o Prime e eu tenho uma vantagem de não pagar o frete e o preço deles costuma ser mais em conta.  Gabriela [00:03:46] Você costuma procurar em outros lugares ou. Então.  Werneck [00:03:50] Como normalmente se eu estou passando em uma livraria e eu costumo dar uma olhada em outros sites, principalmente o Submarino, que é um site que eu já comprei bastante também. Eu dou uma olhada.  Gabriela [00:04:02] No caso desse livro, você chegou a olhar o preço dentro do submarino em outras livrarias ou você já foi direto na Amazon?  Werneck [00:04:08] Eu não cheguei, eu fui direto na Amazon.  Gabriela [00:04:12] E aí, como se soube que ele estava sendo lançado pelo Brasil?  Werneck [00:04:16] A Amazon me recomendou ele   Gabriela por e-mail?  Não, não. No caso, eu entrei no site da Amazon e como as coisas que eles estavam, estava esse livro.  Gabriela [00:04:26] Ah, entendi. Você costuma entrar bastante?  Werneck [00:04:30] Costumo.  Gabriela [00:04:33] E aí você compra outras coisas lá ou só liga?  Werneck [00:04:36] Mas eu costumo comprar muito mais livros as vezes tipo coisas muito pontuais, como o aspirador de pó, o Merquior, por exemplo. Aquela coisa que você compra com uma frequência, mas com frequência pelos livros.  Gabriela [00:04:50] Entende? Aí, dessa vez que você foi comprar novos, você estava procurando algum outro produto. Você entrou ali só para navegar e ver o que tinha de novo.  Werneck [00:04:57] Entrar ali só para navegar e ver questão de promoções.  Gabriela [00:05:01] Entende? Você costuma ver com frequência o que são promoções.  Werneck [00:05:05] Quem não costuma?  Gabriela [00:05:09] Se um produto não estiver no preço e você espera ele entrar numa promoção, ou geralmente você já compra ele?  Werneck [00:05:19] Depende muito do preço. Se, por exemplo, você está com aqueles livros. Se for um livro clássico, o preço dele está ok. Eu posso comprar ele se eu achar pensar muito caro, como foi o caso desse livro. Eu normalmente coloco na minha lista de desejos da Amazon e espero abaixar  Gabriela [00:05:38] Ah, entendi. Aí ele te notifica também.  Werneck [00:05:41] É isso  Gabriela [00:05:43] Legal. Então vamos lá. Na hora de escolher um livro para você ler e tal, quais são as características essenciais assim que você fala isso aqui geralmente é uma coisa que pesa na minha escolha.   Werneck [00:06:01] É um pouco difícil assim. Eu acho que é muito. A questão da Sinopse do livro. Tem que ser uma coisa com uma história que pareça chamar atenção. E também depende muito do momento. Às vezes eu posso ter só uma fantasia bem capa espada propriamente dito. Às vezes eu posso querer um pouco mais de terror. Depende do que eu quero ler no momento. E a sinopse do livro.  Gabriela [00:06:26] É o que geralmente te chama atenção.  Werneck [00:06:29] A sinopse não tem nada específico e realmente a sinopse parece interessante. Eu vou nela.  Gabriela [00:06:37] Entendi. No caso do livro que você tinha falado, você tinha falado também do autor, né? E você já conhecia o autor? Outro também é um fator importante para você durante a escolha de livros ou só nesse livro que realmente chamou atenção?  Werneck [00:06:53] Normalmente o autor ele é importante porque se eu gosto de alguns livros desse autor, normalmente eu costumo gostar de alguns. O estilo de escrita dele ou sobre o que ele escreve pode ser um pouco mais parecido com o que eu gosto de ler.  Gabriela [00:07:09] Entende? Você tem muitos autores favoritos.  Werneck [00:07:12] Para alguns assim. Gosto de Tolkien. Bem, não sei, como já citei, que gosto dos livros dele. Cá entre os brasileiros, eu gosto muito do Leonel Caldelas. É o André Vianco que eu citei. Só que ele é um pouco mais para o terror do que para fantasia.  Gabriela [00:07:31] Entendi. Certo? Então, agora falando um pouquinho sobre a sua relação com os livros de fantasia. O que te fez gostar desse gênero? O que você acha que ele tem de diferente dos outros que eu acho que é.  Werneck [00:07:47] Muito essa questão de.  Gabriela [00:07:48] Como ele é.  Werneck [00:07:50] Ele é amplo, ele é solto, por exemplo, um romance de. Ele é muito preso à nossa realidade. Mantém esse escopo. Fantasia é uma coisa mais. Ele quebra o molde, te chama a atenção. Por isso é uma coisa extremamente criativa. É uma coisa que eu gosto de ver.  Gabriela [00:08:09] Entende? Qual é esse livro favorito?  Werneck [00:08:14] Meu livro favorito? Olha, é uma pergunta um pouco difícil e eu um dos meus favoritos, eu diria que é O Senhor dos Anéis. Não vou citar teologia inteira porque ela se completa.  Gabriela [00:08:33] Tolkien.  Werneck [00:08:35] Mas dá para fazer um top dez fácil e fica faltando.  Gabriela [00:08:40] Um por algum motivo específico.  Werneck [00:08:43] Como eu disse, como é um teatro fantástico até pro terror. Ele é muito ampla, tem muitos livros que são extremamente bons, extremamente interessantes do jeito deles. Talvez um pouco. Eu pelo menos minha opinião. Eu acho um pouco difícil classificar eles quando esse é melhor que eles.  Gabriela [00:09:02] Entendi. Interessante. E tem algum livro que você se arrependeu de ter comprado?  Werneck [00:09:09] Eu me arrependi de ter comprado. Eu acho que não. Assim teve livros. Óbvio que eu não fiquei totalmente satisfeito quando li ele, mas gostei de ler. Ele entendeu?  Gabriela [00:09:26] Entendi. E qual você diria que a maior dificuldade de um leitor de literatura fantástica?  Werneck [00:09:37] Eu acho que é principalmente no Brasil, porque a literatura no geral do Brasil não é muito. Incentivada pode falar assim. Então, às vezes um pouco. Por exemplo, você não vê grandes mídias dando palco para atores brasileiros que ganham prêmios, como por exemplo, ter uma autora de fantasia que também gosta de RPG Ela ganhou um Prêmio Jabuti, um brasileiro da Brasil, Brasil, livros, etc. E tirou as redes sociais dela e um outro lugar de internet mais voltado para essa área de fantasia, de fantasia. Se não houver alarde sobre isso, então acho que falta um pouco desse foco na literatura no Brasil. E também, como tem esse foco, muitas vezes tem contato com as pessoas que gostam é por redes sociais, por amigos, etc.  Gabriela [00:10:33] Entendi por que você acha que a gente vê mais incentivo para a literatura fantástica no Brasil?  Werneck [00:10:42] Oh sim, não vou mentir, é óbvio que eu gosto.  Gabriela [00:10:45] De.  Werneck [00:10:45] Motivo, mas eu pessoalmente acho muito construtivo essa questão de como pontos de vista são colocados. Éder Eu acho divertido. Eu acho que é um hobby saudável de se ter.  Gabriela [00:11:01] Entendi. Certo é. Quais que são geralmente os lugares que você faz compras e falou que você compra bastante pela Amazon?  Werneck [00:11:16] Eu compro uma.  Gabriela [00:11:16] Livraria.  Werneck [00:11:17] Bastante pela Amazon, pelo Submarino, tentando comprar na Amazon, e normalmente quando eu sai eu posso comprar numa livraria física. Se eu achar algum livro que me interessa, um preço bom.  Gabriela [00:11:29] . E aí para você, então, os fatores importantes. São essa questão preço....  Werneck [00:11:39] Sinopse Isso conta a história do livro.  Gabriela [00:11:45] E quando um livro acaba, o que geralmente faz?  Werneck [00:11:51] Está lá. Eu fico um pouco sentido naquelas (risos). Aquela tristeza porque a história acabou assim. Mas normalmente me recomponho em um futuro próximo.  Gabriela [00:12:05] Você geralmente conversa com alguém ser posta em redes sociais.  Werneck [00:12:11] Eu não posto redes sociais, mas eu converso com meus amigos porque alguns amigos próximos meus compartilham de meu gosto pela literatura nesse sentido de literatura fantástica.  Gabriela [00:12:21] Se entendi E você segue algum perfil de Instagram e Twitter de toque? Canal de YouTube sobre livros?  Werneck [00:12:32] Então não. Alguns grupos do Facebook, mais ou menos, mais voltados pra RPG, acabam tocando nesse assunto, mas especificamente nesse assunto.  Gabriela [00:12:41] Não entendi. Certo? Então, agora falando um pouco sobre coisas que não existem ainda, mas que seriam legais, se eu gostaria de receber indicações de livros baseados na sua última leitura?  Werneck [00:12:54] Sim.  Gabriela [00:12:58] Porque?  Werneck [00:13:02] Então se eu gostei de uma leitura. Se eu gostei dela, eu acho que um livro similar eu também vou gostar.  Gabriela [00:13:11] Você geralmente vê filmes e livros. Você geralmente vê adaptações de filmes que eram livros e livros que eram adaptações de filmes.  Werneck [00:13:21] O primeiro, no caso, filmes, câmeras, livros. Eu acabo evitando um pouco, porque eu sempre acho decepcionante. Mas sim filmes que viram livros e filmes que vêm de livros. Eu criei interesse em O livro.  Gabriela [00:13:37] Você gostaria de receber recomendações em relação a isso?  Werneck [00:13:41] Sim.  Gabriela [00:13:42] Baseados em filmes.  Werneck [00:13:43] Um filme que você gostou sem ter uma obra original, que é um livro ou um livro similar? Gostaria.  Gabriela [00:13:50] Então. E o que você acha que falta para as outras as outras pessoas começarem a ler mais livros de literatura fantástica?  Werneck [00:14:03] Mas como eu já tinha citado, eu acho que era muito. A partir desse incentivo e desse dar um holofote para esse tipo de literatura como um hobbie mesmo.  Gabriela [00:14:16] Entendi. a literatura como hobby. Se você acha que hoje a literatura não é vista como hobby.   Werneck Por muita gente. Eu acho que não é mesmo? Por que .É assim, conheço gente que normalmente não tem o costume de ler por interesse. É mais questão de estudo, questão de trabalho. Poucas pessoas falam. Estou entediado. Vou pegar um livro e passar um tempo aqui. Todos os dias. Tem coisas que acabam chamando mais a atenção, como redes sociais, celulares, computadores.  Gabriela [00:14:57] E para você é tranquilo conciliar essa questão de usar o computador, usar redes sociais e também ler livros?  Werneck [00:15:04] Sim, sim. Obviamente que em casa, com o meu computador eu costumo ler um pouco menos. Em casa costumo ler mais um, esperar um ônibus ou metrô, mas assim eu consigo passar um tempinho, sentar no sofá, ler um livro tranquilo.  Gabriela [00:15:18] Bacana. Bacana. E você, gostaria de conhecer outras pessoas que lêem os mesmos livros que você?  Werneck [00:15:26] Sim, gostaria.  Gabriela [00:15:29] E mesmo por que.  Werneck [00:15:32] Eu acho que. Um  hobby comum ajuda a aproximar pessoas que se entendem. Então uma pessoa como eu, por exemplo, tem alguns amigos, tem alguns amigos que gostam dos livros, que pode conversar sobre os livros. Pode Recomendaríamos uns dos outros. Às vezes até fora dos livros, como por exemplo animes, mangás, jogos, etc. Então acho que rola esse contato legal entre pessoas que tem similares.  Gabriela [00:15:59] Bacana. Tem alguma coisa que eu não abordei nessa entrevista que você gostaria de acrescentar? Eu acho que não. Então, muito obrigada pela sua participação e.  Werneck [00:16:12] Atenção, viu?  Gabriela [00:16:13] Eu queria falar que essa essa pesquisa ela vai ser usada só para realmente essa pesquisa acadêmica, então seus dados não divulgados em nenhum lugar e se você precisar de qualquer coisa, você tem o meu email ou meu whatsapp e pode mandar mensagem, Tá bom?  Werneck [00:16:28] Pode deixar.  Gabriela [00:16:30] Obrigada.  Werneck [00:16:31] Agradeço. Tchau, tchau.  Gabriela [00:16:33] Tchau.\n",
            "resposta: **Resumo da Entrevista**\n",
            "\n",
            "**Participante:** Gabriel Werneck\n",
            "\n",
            "**Características de um Leitor de Literatura Fantástica**\n",
            "\n",
            "* Interesse em histórias com escopo amplo e criativo.\n",
            "* Busca por sinopses envolventes.\n",
            "* Preferência por autores conhecidos com estilos de escrita apreciados.\n",
            "* Forte conexão com o gênero devido à sua capacidade de escapar da realidade e explorar mundos imaginativos.\n",
            "\n",
            "**Hábitos de Leitura**\n",
            "\n",
            "* Compra livros principalmente pela Amazon devido a preços competitivos e frete grátis.\n",
            "* Também compra em livrarias quando encontra promoções ou títulos interessantes.\n",
            "* Lê principalmente em ônibus ou metrô, mas também desfruta de sessões de leitura em casa.\n",
            "\n",
            "**Dificuldades dos Leitores de Literatura Fantástica no Brasil**\n",
            "\n",
            "* Falta de incentivo e holofotes para o gênero.\n",
            "* Contato limitado com outros leitores semelhantes devido à falta de promoção.\n",
            "\n",
            "**Sugestões para Melhorar a Experiência de Leitura**\n",
            "\n",
            "* Receber recomendações personalizadas com base em leituras anteriores.\n",
            "* Ter acesso a adaptações de filmes e livros baseadas em filmes.\n",
            "* Conectar-se com outros leitores que compartilham interesses semelhantes.\n",
            "\n",
            "**Fatores que impedem as pessoas de ler mais literatura fantástica**\n",
            "\n",
            "* Falta de percepção da literatura como um hobby.\n",
            "* Distrações como redes sociais e tecnologia.\n",
            "\n",
            "**Desejo de Conectar-se com Outros Leitores**\n",
            "\n",
            "* O participante expressou interesse em conhecer leitores semelhantes para discutir livros, recomendar obras e compartilhar hobbies relacionados. \n",
            "\n",
            "Envie outra transcrição ou pergunte algo sobre a entrevista anteriorEm qual minuto ele fala sobre as dificuldades dos leitores no brasil?\n",
            "resposta: **Minuto 00:09:52 - 00:10:20** \n",
            "\n",
            "Envie outra transcrição ou pergunte algo sobre a entrevista anteriorGabriela [00:00:00] Registrado.  Gabriela [00:00:01] Então vamos lá. Pedro, você autoriza a gravação dessa entrevista para posterior análise?  PEdro [00:00:06] Sim. Eu, Pedro pessoal, ATA, autorizo essa gravação ser usada com a análise.  Gabriela [00:00:11] Então beleza, vamos lá. Meu nome é Gabriela, eu sou estudante de publicidade na Universidade de São Paulo e o objetivo dessa entrevista é tentar entender um pouquinho sobre o mundo de literatura fantástica. Então, aqui estou muito mais no papel de aprendiz para entender um pouco sobre como é que funciona esse mundo. Então não tem resposta certa, nem resposta errada. Tudo o que vier aí na sua cabeça você pode responder sem medo de julgamentos Tá bom?  Pedro [00:00:37] Porque não existe resposta errada. Mas eu vou provavelmente falar alguma besteira. Vou estar aqui para provar.  Gabriela [00:00:42] Tá tudo certo.  PEdro [00:00:45] Está certo? Vamos, sim, claro. Eu posso falar à vontade.  Gabriela [00:00:49] Certo? Então vamos lá. Me conta um pouquinho sobre você Qual é o seu nome? Sua cidade? De onde você vem? Qual é a sua idade?  PEdro [00:00:58] Quer fazer o IBGE comigo?  Gabriela [00:01:00] É bem.  Gabriela [00:01:00] Breve.  PEdro [00:01:02] Não é bem isso. Meu nome é Pedro Pessoa Alta, eu tenho 25 anos, eu sou da região metropolitana de São Paulo, sou de Santo André. Me orgulho.  Gabriela [00:01:24] E eu vou te perguntar quando você começou? Como é que você começou nesse mundo?  PEdro [00:01:30] Eu acho que aproximadamente eu comecei com entre 13 e 14 anos, mais ou menos na minha adolescência. Eu sempre gostei muito de ficção em geral, tanto comic tipo quanto de animação. Filmes, principalmente. Eu sempre curti muito e um pouco de influência sobre da minha família, porque eu sempre gostei muito de Star Wars por causa do meu pai e gostei muito de Star Trek também por causa dele. Aí quando você vai interagindo com esses, com essas coisas, você vai vendo, vai se diversificando, vendo novos nichos. Eu comecei a me interessar por literatura fantástica, porque quando eu era mais novo, eu tinha um déficit de aprendizado muito grande. Eu tinha muita dificuldade de aprender. Eu tive, demorei para me alfabetizar.  PEdro [00:02:22] É um dos métodos que a gente achou para eu, para eu me interessar pela leitura mesmo, foi achar coisas que eu gostasse de ler. Então eu comecei a ler livros de fantasia, porque eu sempre fui uma pessoa muito criativa e muito imaginativa. Então eu comecei a ler coisas desse gênero, tanto que, como eu posso dizer, eu sempre fui procurando os mais famosos, as coisas mais clássicas assim também. Eu li Duna depois de um bom tempo, um dos meus livros favoritos e mesmo assim uma pessoa que tem muita dificuldade na leitura e na escrita sem ler Duna, que é um livro de mais de 600 páginas, é um fato muito grande para mostrar como eu gosto. Amo muito isso. E é bem, geralmente isso foi isso. Mesmo eu tendo me passando essa dificuldade, eu continuo ainda pelo próprio entretenimento, mesmo bacana.  Gabriela [00:03:23] E nos últimos seis meses você comprou algum livro de fantasia?  PEdro [00:03:27] Ai menina, nem me fala.  Gabriela [00:03:30] Isso é um sim?.  PEdro [00:03:32] E sim, eu tenho uns cinco pra ler ainda.  Gabriela [00:03:36] E como é que foi o seu processo de escolha desses livros e de compras?  PEdro [00:03:43] É um pouco uma mistura de quando você compra quadrinhos, você vê a capa e acha legal. Eu geralmente o vejo a capa e olha tipo ah, isso aqui tem. Às vezes tem um desenho legal, às vezes tem um nome bacana. Aí depois de você ler a parte de trás para saber do que quer a trama, como por exemplo. E às vezes também eu procuro muito ler clássicos assim, tipo porque eu esqueci até de falar, eu sei. Eu estudo licenciatura em História, mas uma coisa que sempre me fascina é como é mesmo esse estudo antropológico de como as coisas seguem. Então eu busco muito clássico pra saber o que influenciou tal ou tal gênero, como por exemplo, eu comprei há um tempo atrás Neuromancer para entender o que, qual que foi o gênero e saber panque, como é que ele nasceu. Depois eu fui procurar ler o. Como que eu posso dizer? Sabe o Blade Runner? Ele é baseado em um livro também. Então eu fui depois procurar com como se ele. Onde é esse livro? Como ele se encaixa? Como ele influenciou? Porque, por exemplo, às vezes eu vou ler mangás ou quadrinhos da década de 70 para saber como, o que influenciou, o que virou clichê depois de um tempo de. Depois do pessoal. O que eu posso dizer depois de tanto tempo sendo referenciado? Por que isso aqui ficou conhecido? Por que isso aqui foi tão revolucionário? Aí eu pensei e tenho o típico tipo achei a capa bonita.  Gabriela [00:05:20] Certo? Então, tipo, geralmente você compra eles mais físicos ou mais online.  PEdro [00:05:27] Há bastante físico. Eu prefiro o físico. E eu sou historiador. A gente precisa, né? Quando a gente vai dar entrevista para a Globo News, a gente precisa de uma bancada grande.  Gabriela [00:05:38] E a compra dos livros você faz on line, presencial.  PEdro [00:05:41] Mas presencial. Para ser sincero, eu prefiro por que é aquela coisa, eu prefiro também não cheguei e dar uma olhada nele e vê se ele é grande, vê se ele vê se ele vai caber na minha estante. No online eu acho mais difícil.  Gabriela [00:05:56] Entendi. Aí você falou que você geralmente dá uma busca para entender quais foram as referências, Geralmente, como é que você faz essa busca?  PEdro [00:06:05] Geralmente eu vejo como que eu posso dizer. Às vezes também eu vejo os mais vendidos, ou às vezes eu vejo tipo, outros escritores que vão falar assim recomendam ele e eu falo que foi inspiração. Às vezes, por exemplo, eu comecei a ler Duna. Porque? Porque todo mundo, todo mundo. Quando você fala de ficção científica, fala que ele é um marco. Ele é um ponto de virada muito grande. Ele é mais ou menos os anos 70, 60. Ele é o que transforma toda a ficção científica. Aí eu procurei justamente por isso. Geralmente eu procuro, vejo o que foi a quebra. Como por exemplo O21011. Por que ele foi tão importante?  PEdro [00:06:55] Kubrick estava com muito preguiça, mas eu tenho o livro dele, que é tipo todo um outro rolê. E às vezes também eu vejo o filme e vejo o pessoal falar que é muito diferente do livro. O que mudou? O que eu, às vezes até por curiosidade, por que o autor resolveu adaptar isso ou fazer aquilo? E tem muito e muito. Querendo ou não, acho que eu posso dizer que eu sou muito influenciado pela opinião alheia para saber por que as pessoas falam aquilo.  Gabriela [00:07:26] Certo? Tem algum alguma pessoa que tem essa questão de opinião e um tal colunista site está grande e toque que você siga geralmente para entender essas tendências.  PEdro [00:07:39] Tem um que eu chamo, que é.  Gabriela [00:07:40] O.  PEdro [00:07:42] É Mas  Francisco Izzo, que eu acho que é bom, mas ele é um blogueiro, acho que de dentro da chaminé. Eu acho difícil você conhecer, porque é muito inchado esse negócio. Ele também fala muito de quadrinhos, tudo. Também acho que. Há geralmente fóruns assim que eu vejo de ler de literatura mesmo, as vezes eu entro.  Gabriela [00:08:07] Ah, e que legal.  PEdro [00:08:09] Saber mais, mas realmente mais para dar uma olhada mesmo. O que o pessoal está falando em gente?  Gabriela [00:08:16] E você também gosta dessa questão de livros e filmes de filmes que são inspirados em livros e livros que são inspirados em filmes?  Gabriela [00:08:24] Sim, sim, sim.  PEdro [00:08:28] Como falei de 2001, o próprio Donna. Porque como você fala, é aquela coisa todo mundo começa a ler Harry Potter porque viu os primeiros filmes, né? Aí vai ler tipo como por exemplo, também eu assisti acho que os primeiro temporada de Game of Thrones e fui procurar o livro.  Gabriela [00:08:46] E.  PEdro [00:08:48] São muito diferentes. Por exemplo, você já viu aquela com capa As Crônicas Saxônicas? Não é que é uma coisa muito de historiador. É uma série de livros sobre as invasões urbanas na Inglaterra. Isso realmente aconteceu. Só que o cara cria um personagem fictício para falar sobre esse período. Eu aí eu achei ele por causa do tudo mesmo.  Gabriela [00:09:22] Ahn, entendi. E aí a gente falou da questão dos livros em livrarias. E quais que são as características essenciais na hora de escolher um livro? Aquela que você olha e fala Não, isso aqui realmente é uma coisa muito importante para mim.  PEdro [00:09:38] O enredo dele já assim, a chamada dele, tipo sabe quando ele te explica na contracapa sobre o que ele é?  Gabriela [00:09:48] Pelo.  PEdro [00:09:50] Eu quero saber se ele tem alguma coisa que me interessa, como por exemplo as vezes a descrição da trama é uma coisa que para mim é uma coisa muito difícil de pensar ou de imaginar como que vai acabar, ou às vezes, vamos dizer assim. Tipo, realmente a ideia dele me parece muito interessante. Como saber como que eu posso dizer? Ah, vamos dizer assim. Eu acho que provavelmente você não ouviu, mas já ouviu falar da série de livros brasileiro Batalha do Apocalipse.  Gabriela [00:10:24] Não é do.  PEdro [00:10:26] Tipo ele me chamou a atenção porque ele é meio que como se fosse um livro sobre os anjos brigando pela terra. E aí eu fiquei tipo foi. Às vezes com termos que eu acho legal. Às vezes são. São só tramas, enredos, personagens que eu acho bacana e eu resolvo dar uma olhada. Mas aí é muito por momento. De momento eu não vou dizer eu não vou conseguir te dizer um padrão, vão falar assim tudo bem.  Gabriela [00:10:55] Certo?  Gabriela [00:10:57] O autor para você também são relevantes ou o enredo é que realmente vai te fazer decidir assim?  PEdro [00:11:05] Preço me me bate porque a gente vive no Brasil, né?  Gabriela [00:11:10] Sim.  PEdro [00:11:12] Às vezes sim, às vezes tem muitos livros que eu quero comprar, mas assim, 70 conto não é uma facada grande, mas pra mim.  Gabriela [00:11:20] Entende? Aí geralmente quando tem um livro que você tem interesse em comprar, mas o preço está muito altos, geralmente espere abaixar o preço ou não. Você faz um.  PEdro [00:11:29] E eu espero Eu sou um homem paciente.  Gabriela [00:11:32] Então.  PEdro [00:11:35] Geralmente eu procuro, vejo que tem outros preços, faça uma média, mas se realmente estiver muito alto eu espero ter uma promoção ou ter um evento, alguma coisa sempre para comprar.  Gabriela [00:11:54] Eu acho engraçado isso que eu estou perguntando para as pessoas e todo mundo espera. E eu fico pensando gente, e o PDF online?  PEdro [00:12:00] Ah, mas aí a Bahia do Pirata está sempre aí pra gente.  Gabriela [00:12:07] Certo? Então, agora falando um pouquinho mais sobre essa relação com livros de fantasia. O que te faz gostar desse gênero que você acha que é totalmente diferente dos outros?  PEdro [00:12:18] Eu posso dar aquela resposta simples, que é tipo o mundo é muito chato.  Gabriela [00:12:22] Porque é muito.  PEdro [00:12:23] Fantasia. Tipo, ele dá uma virada, mas eu acho que é muito realmente. Tipo, eu gosto de como sou historiadora sim, tudo. Eu gosto de ver qualquer a imaginação, as ideias das pessoas, como por exemplo, querendo ou não, o Neuromancer que eu falei há um tempo atrás. Eu gosto dessa ideia, tipo, um cara pensa na tecnologia avançando, o que ele acha que vai mudar no mundo? Tanto que tem um prefácio do livro Eu tenho uma theme que é quase uma piada, aquele que ele acha engraçado, que ele nunca imaginou celular. Para ele. Assim, comunicação móvel é uma coisa impensável. O pessoal já estava viajando para o espaço, colonizando outros planetas, mas assim tem uma parte que o personagem principal precisa ir em um orelhão ligar para uma pessoa. Eu gosto muito de ver como as pessoas imaginam as coisas. Como até mesmo, por exemplo, o George Martin do das Crônicas de Gelo e Fogo e o Game of Thrones lá toda. Ele disse que é muito uma visão deles, porque ele é muito nerdão de idade média e ele acha muito ruim as pessoas não interpretarem tipo. Votar nos elementos mais legais da Idade Média, nos livros dele, nos livros. Vamos assim falar aí nos dele. Ele quis fazer coisas muito mais espalhafatosas. Eu gosto de ver como ele consegue imaginar isso.  Gabriela [00:13:47] Que entendi.  PEdro [00:13:48] Eu, como por exemplo outros gêneros literários, eu não me interesso muito, porque como que eu posso dizer, eles não tem muita estrutura dos três atos. Você sabe o que é isso?  Gabriela [00:13:58] Não me conta.  PEdro [00:14:01] A estrutura dos três atos, Ele é meio que assim, uma história para ela ser interessante. Ela tem meio que o começo, meio e fim.  Gabriela [00:14:09] E sim.  PEdro [00:14:11] O primeiro ato é você estabelecendo como que a narrativa, vc vai se conhecendo dos personagens e até mesmo assim qual vai ser o problema da trama? O segundo é o desenvolvimento e o conflito, vamos assim dizer. Tipo é a briga ou é a procura de algo? E o terceiro é a minha conclusão, é o fechamento dos personagens, as conclusões que eles geram pela aventura deles e até mesmo o fim deles. Livros de fantasia. Eles têm geralmente mais essa estrutura para mim, e eu gosto muito dela. Sabe, no começo você conhece os personagens, sabe o que eles querem, o que eles vão falar, qual é o objetivo deles? O desenvolvimento geralmente é um. Geralmente é mais ação. Geralmente é uma parte que eu acho interessante ou é mesmo eles bolando o ponto deles. E para mim, tipo livros que não vamos falar. Há livros que são de outras histórias, mas que não têm esses elementos. Para mim, eles ficam muito monótonos para mim, para saber muito. Eu não gosto de ler sobre o cotidiano, como também são um pouco do meu trabalho. Eu não curto muito ficar lendo isso.  Gabriela [00:15:24] Entende?  PEdro [00:15:25] Tipo, eu tenho que às vezes ler o que está acontecendo no Azerbaijão. E eu sei que metade das pessoas não sabem apontar Azerbaijão no mapa. E aí também tem o ponto de eu não consigo falar com outras pessoas sobre isso. Tipo, já tem uns três anos que eu estou tentando falar para o governo sobre o conflito de Nabor Canabarro. Ele não entende.  Gabriela [00:15:50] Entendi. E aí, você acha que com o livro é mais fácil de conversar.  PEdro [00:15:56] Ou muito mais fácil? Acho que é dez vezes mais fácil falar de Duna do que de falar disso.  Gabriela [00:16:02] Bem, entendi. E tem um livro que você se arrependeu de ter comprado.  PEdro [00:16:07] Ah, é muito raro. Eu tenho que dar uma olhadinha aqui na minha coleção, mas acho que acho que talvez dragões dragões de éter, porque eu achei meio fraquinho depois de um tempo. Tenho. Tem um que eu talvez não tenha me arrependido porque eu achei a história bem fraquinha. Mas é porque eu conheci o autor e eu fico mal de dizer isso a ela. Tipo, o cara estava fazendo exposição tudo e eu me sinto até um pouco mal de falar que eu não achei a história dele tão legal.  Gabriela [00:16:44] Ah, entendi, Você não gostou desses livros por causa da história, né?  PEdro [00:16:48] Mas a história deles mesmo não sei porque quando se trata de fantasia é mais isso mesmo. Não dá para ler uma biografia e falar tipo ah, não acho que o Roberto Carlos tinha que ter virado cantor. Quem entender isso leu Os Donos do Sérgio Buarque. Eu posso dizer que ele está errado, porque é o que eu acho realmente. Todo o conceito de colonização dele eu não acho legal. Mas em geral não tem muito que dizer. Eu não posso dizer que. Não gostei do livro porque eu não concordei com ele.  Gabriela [00:17:19] Porque entendi. E qual você acha que é a maior dificuldade dos leitores de literatura fantástica hoje?  PEdro [00:17:27] Hoje em geral.  Gabriela [00:17:28] É.  PEdro [00:17:31] Eu acho que seria cômico, eu posso dizer. Acho que eu acho que é um pouco de  Variedade.  PEdro [00:17:40] Para ser sincero.  Gabriela [00:17:42] É mesmo variedade. Por quê?  PEdro [00:17:44] Porque eu sinto que muita gente vai no seguro.  Gabriela [00:17:48] E.  PEdro [00:17:49] Não a gente, que é tipo fazer o Harry Potter dele, como por exemplo. Assim sempre vai ter alguém querendo fazer o repórter ou Senhor dos Anéis dele.  Gabriela [00:18:00] E por.  PEdro [00:18:01] Isso eles vão sempre pegar os mesmos elementos, as mesmas tramas, vão pegar uma coisa você sabe que é o chase  one Então o escolhido é meio que um arquétipo da pessoa que nasceu para realizar uma função. Ou aquela função geralmente é salvar o mundo e por exemplo, o Anakin do Luke, do Star Wars, o próprio Harry Potter. A despensa é o Naruto de Naruto. Tudo isso é o personagem que nasceu pra resolver os problemas daquele mundo. Então, por exemplo, assim ele vai sempre é assim, você não tem medo sobre esse personagem, assim vão falar assim né gente? Nada ruim com ele vai acontecer porque tem pelo menos mais 100 páginas do livro ainda. Sabe, eu sinto que falta meio que pessoas se arriscando, porque realmente é uma indústria já, então não vai. Não dá para você olhar e pensar em fazer alguma coisa muito diferente sem se arriscar e se arriscar. Não é uma coisa que as editoras querem ouvir, então, como por exemplo. Como eu posso dizer, Game of Thrones mesmo ficou a 20 anos antes de ser realmente publicado e virou febre. Nenhuma editora quer isso. A editora quer fazer que quer pegar o livro e botar na estante e quer que ele venda pra mim também. E isso é um outro problema. Essa dupla é uma coisa muito forte mesmo.  Gabriela [00:19:38] Sim.  PEdro [00:19:39] E isso impede que as pessoas possam fazer alguma variedade, pegar alguma algumas coisas que arriscar, pegar alguns conceitos que não são tão bem estabelecidos. Porque se a gente pensar em fantasia, quando a gente vai falar as raças ou espécie das pessoas, dos personagens, tem aquele o livro básico do D&D vai ter anões, elfos e humanos. Quando for, quando se vai falar tipo de mundo de magia é sempre essa estrutura do Harry Potter. Existe o mundo bruxo, existe o mundo humano. Eu não ligo das pessoas utilizarem isso, mas assim pra mim já tá naquele ponto de que parece que a pessoa travou.  Gabriela [00:20:21] Entendi.  PEdro [00:20:23] Para mim é uma coisa simples e o principal para mim é um problema dela. A gente tem muita, muito, tem muito título, mas parece que um título está se copiando um do outro.E é isso. Acho que isso vem principalmente da questão da editora, da escolha editorial, de lançar ou não um livro.  PEdro [00:20:39] Sim, eu. Eu sinto muito que o mercado editorial é muito visado nisso, porque, primeiro, realmente eles são uma indústria. Eles precisam se pagar e ter lucro. E isso pra mim é isso e outros problemas, mas é a vida. Mas dá para ver muito que essa nota de corte para ele está sendo muito vendo o que está fazendo sucesso e o que eles querem e replicam.  Gabriela [00:21:05] Entendi.  PEdro [00:21:06] É tanto que tipo, acho que tem uma piada do Simpson que é como vampiros são sempre usadas. O que eles vão é. É um episódio específico do que eles estão falando sobre justamente sobre literatura. Eles inventam de fazer um livro e falar eles vão fazer. Eles são uma escola e o personagem é um vampiro. Aí eles vão, tipo para várias estante, falar um vampiro tipo esse tipo, esse tipo, esse ser que. E sinto que essa piada é muito acertada, porque é muito, muito realmente como é o mercado.  Gabriela [00:21:39] Entendi. Entendi coisas novas. Entendi. Que loucura!  PEdro [00:21:47] Eu sou uma pessoa um pouco fora da curva.  Gabriela [00:21:49] Desculpe.  Gabriela [00:21:53] Então vamos lá. É sobre os lugares que você citou para fazer como você falou que você gosta principalmente de comprar em loja física? Por que você prefere eles do que em outros lugares.  PEdro [00:22:06] Do que loja on line em geral?  Gabriela [00:22:08] A loja online é feira.  PEdro [00:22:10] Qualquer lugar e feira que eu vou pouco em feira, então realmente é que eu não tenho costume de ir. Se eu fosse mais, acho que eu ia gostar, mas é porque eu gosto de pegar o livro, eu gosto de ver ele. Tipo, eu gosto muito de ler em livraria sebo. É um rolê que eu gosto só. Tipo só pegar o livro, olhar e ver algumas coisinhas dele. Eu gosto disso no online, é muito impessoal. Eu estou vendo a capa, estou vendo a imagem. E eu não sei, parece que não dá. Aquela conexão. E como sabe falar com a pessoa on line e falar com a pessoa física tem diferença.  Gabriela [00:22:50] bacana. E geralmente quando acaba um livro, o que você faz?  PEdro [00:22:57] Geralmente eu boto ele na minha estante. É realmente uma coisa meio compulsória mesmo, a gente sabe de colecionar. Veja se fica bom, veja onde ele fica bem na estante onde ele fica bonito. Às vezes eu boto eles junto com outras coleções, meio que assim. Mas geralmente eu não tenho costume de repassar livro. Eu acho muito, muito raro. Eu faço isso.  Gabriela [00:23:22] Certo? E aí geralmente se posta numa rede social, no Twitter, conversa com os amigos ou não. Se se acabou o livro, bora partir pro próximo e procurar o autor? Não sei.  PEdro [00:23:37] Vezes eu converso geralmente com alguns colegas mesmo, tipo falo eu terminei tal livro. Eu não sou muito de postar foto, é muito raro, assim eu posso mais a comida que não sou eu que faço as vezes.  Gabriela [00:23:49] Com.  PEdro [00:23:50] Um cano tipo eu não tem tanto costume assim de tirar foto, fazer essas coisas sim, mas eu sou mais converso com as pessoas e depois guardo mesmo.  Gabriela [00:23:59] Bacana, certo? Então, agora falando sobre produtos que não existem e poderiam existir, você gostaria de receber indicações de livros baseados na sua última leitura?  PEdro [00:24:12] Acho que não. Para ser sincero, não. Uns porque às vezes eu, às vezes eu tenho um hiperfoco que eu gosto muito de ver só sobre aquela coisa. Aí. Se eu visse alguma coisa parecida, não ia me interessar, eu ia acontecer. Sabe aquela coisa que eu falei? Eu senti que só como a cópia.  Gabriela [00:24:32] É isso.  PEdro [00:24:33] Aí. Tipo, talvez, provavelmente assim que eu, assim que eu terminasse, assim que eu tivesse aquele livro, eu provavelmente procurei uma coisa diferente. Muito difícil pegar alguma coisa parecida.  Gabriela [00:24:47] Entendi. E isso? Gostaria de receber indicações de livros baseados no seu histórico de filmes.  PEdro [00:24:54] Talvez, talvez. Acho que um. E como acho que seria, talvez mesmo   Gabriela [00:25:07] De certo. Os.  Gabriela [00:25:11] O que você acha que falta para as outras pessoas começarem a ler mais livros de literatura fantástica?  PEdro [00:25:18] Acho que é um incentivo mesmo. PEdro [00:25:25] Às vezes, assim como você, às vezes as pessoas pegam um livro de fantasia e acha que é só o capa espada, ou seja, só entretenimento como entretenimento barato, essa coisa meio boba. Eu acho que é tipo ou até mesmo aumentar as discussões sobre. É uma coisa que eu acho muito difícil em qualquer comunidade e as pessoas verem e falarem sobre aquilo no sentido mais do que gostei, eu não gostei. Um Melhor tentar ver os significados ou até mesmo tentar interpretar o que o autor quis dizer. Talvez assim, ou talvez eu não tenha dito nada. Talvez ele realmente só fez e pegou dinheiro e escreveu o que queria. Mas eu gosto da discussão de ver onde as pessoas podem pela interpretação. Acho que se as pessoas tivessem mais costume de discutir, eu acho que seria e seria uma literatura até mais forte.  Gabriela [00:26:25] É sem jeito. E você gostaria de conhecer outras pessoas que leem os mesmos livros que você?  Gabriela [00:26:30] Sim.  PEdro [00:26:32] Por que vai justamente ficar enchendo o saco delas, falando a parte que gostei e parte que vão discutir sobre a trama, as coisas que aconteceram e tentar dar minhas interpretações, as coisas, a minha esquecida mesmo.  Gabriela [00:26:49] Certo? Ah.  Gabriela [00:26:52] Então é isso. Tem uma coisa que eu gostei nessa entrevista que você gostaria de acrescentar.  PEdro [00:26:57] Hummm. Você já leu Duna?  Gabriela [00:27:00] Não. Eu vi o filme.  PEdro [00:27:03] E também é bom. Então se.  Gabriela [00:27:04] Quiser.  PEdro [00:27:06] O que incentivei como última pergunta, leia a literatura fantástica. Gostoso demais.  Gabriela [00:27:12] Então eu vamos pensar no caso, vai? Beleza? Então, muito obrigada pela sua participação, Pedro. E aí? Não precisamos de qualquer coisa. Você pode me mandar mensagem? Mas assim essa entrevista ela vai ser usada só pra pesquisa acadêmica mesmo. Então nenhum de seus dados divulgados. Então você pode ficar tranquilo.  PEdro [00:27:29] Tá bom, tá. Se quiser, o número do meu cartão é sete nessa brincadeira. Mas não entendi isso não. Tranquilo, pode usar à vontade, tentando ao tentar a minha aprovação sobre isso.  Gabriela [00:27:42] Então fechou.  PEdro [00:27:43] O perfil? Então obrigado.\n",
            "resposta: **Minutos 00:09:52 - 00:10:20**\n",
            "\n",
            "**Pedro:**\n",
            "\n",
            "\"Eu acho que é um pouco dessa variedade. Para ser sincero, acho que acho que muita gente vai no seguro. (...) Não dá pra você olhar e pensar em fazer alguma coisa muito diferente sem se arriscar e se arriscar não é uma coisa que as editoras querem ouvir.\" \n",
            "\n",
            "Envie outra transcrição ou pergunte algo sobre a entrevista anteriorQuais são os pontos em comum nas duas entrevistas?\n",
            "resposta: **Pontos em Comum nas Duas Entrevistas:**\n",
            "\n",
            "**Características dos Leitores de Literatura Fantástica:**\n",
            "\n",
            "* Interesse em histórias com escopo amplo e imaginativo.\n",
            "* Busca por sinopses envolventes.\n",
            "* Importância do autor e de sua capacidade de construir mundos e personagens únicos.\n",
            "\n",
            "**Hábitos de Leitura:**\n",
            "\n",
            "* Preferência por compras em livrarias físicas para permitir uma interação mais pessoal com os livros.\n",
            "* Leitura em momentos de deslocamento (ônibus, metrô).\n",
            "* Conversas com amigos e colegas sobre livros lidos.\n",
            "\n",
            "**Dificuldades dos Leitores de Literatura Fantástica:**\n",
            "\n",
            "* Falta de incentivo e reconhecimento para o gênero.\n",
            "* Concentração da indústria editorial em livros que seguem fórmulas seguras.\n",
            "\n",
            "**Sugestões para Melhorar a Experiência de Leitura:**\n",
            "\n",
            "* Receber recomendações personalizadas com base em leituras anteriores.\n",
            "* Ter acesso a adaptações de filmes e livros baseadas em filmes.\n",
            "* Conectar-se com outros leitores que compartilham interesses semelhantes.\n",
            "\n",
            "**Benefícios da Literatura Fantástica:**\n",
            "\n",
            "* Capacidade de escapar da realidade e explorar mundos imaginativos.\n",
            "* Possibilidade de discussões e interpretações sobre os significados e simbolismos presentes nas histórias.\n",
            "* Incentivo para discussões mais aprofundadas sobre temas e ideias. \n",
            "\n",
            "Envie outra transcrição ou pergunte algo sobre a entrevista anteriorQuais são os pontos divergentes\n",
            "resposta: **Pontos Divergentes nas Duas Entrevistas:**\n",
            "\n",
            "**Idade do Início da Leitura de Literatura Fantástica:**\n",
            "\n",
            "* Gabriel Werneck: 13-14 anos\n",
            "* Pedro Pessoa Alta: Aproximadamente 13-14 anos\n",
            "\n",
            "**Motivações para Começar a Ler Literatura Fantástica:**\n",
            "\n",
            "* Gabriel Werneck: Influência familiar (Star Wars e Star Trek) e déficit de aprendizado.\n",
            "* Pedro Pessoa Alta: Interesse pessoal em ficção e imaginação.\n",
            "\n",
            "**Tipos de Livros de Fantasia Preferidos:**\n",
            "\n",
            "* Gabriel Werneck: Fantasia clássica (Tolkien), autores brasileiros (Leonel Caldelas e André Vianco).\n",
            "* Pedro Pessoa Alta: Livros que exploram ideias e conceitos originais, como Neuromancer.\n",
            "\n",
            "**Frequência de Compra de Livros:**\n",
            "\n",
            "* Gabriel Werneck: Compra com frequência, principalmente quando há promoções.\n",
            "* Pedro Pessoa Alta: Compra esporadicamente, cerca de 5 livros nos últimos seis meses.\n",
            "\n",
            "**Mídias Sociais e Literatura:**\n",
            "\n",
            "* Gabriel Werneck: Não usa redes sociais para discutir livros, mas conversa com amigos sobre leituras.\n",
            "* Pedro Pessoa Alta: Não posta sobre livros em redes sociais, mas conversa com colegas sobre suas interpretações e discussões.\n",
            "\n",
            "**Desejo de Conhecer Outros Leitores:**\n",
            "\n",
            "* Gabriel Werneck: Sim, gostaria de conhecer leitores semelhantes para trocar ideias e recomendações.\n",
            "* Pedro Pessoa Alta: Sim, gostaria de conhecer outras pessoas para discutir livros e compartilhar interpretações. \n",
            "\n"
          ]
        }
      ]
    }
  ]
}